{
 "cells": [
  {
   "cell_type": "markdown",
   "id": "f4b9c525-0b28-44d4-8d25-76b7bc31c612",
   "metadata": {
    "tags": []
   },
   "source": [
    "# PixelDraw\n",
    "\n",
    "This notebook is based on the `PixelDrawer.ipynb` notebook from the `demos` directory of https://github.com/dribnet/clipit\n",
    "\n",
    "On my MacBook Pro M1, this notebook currently runs very slowly, performing about 1 iteration per minute (20 iterations took pretty exactly 20 minutes). This was run without GPU accelleration, as PyTorch currently GPU accelleration is currently not possible with PyTorch on Apple silicon Mac GPUs.\n",
    "\n",
    "Meanwhile, running [an equivalent notebook](https://colab.research.google.com/drive/1H2KZh_7xfd2Qb2KKZ8Qd07PWANlBcz6s?usp=sharing) on Google Colab machines with Tesla T4 GPUs, performance is of course miles better."
   ]
  },
  {
   "cell_type": "code",
   "execution_count": null,
   "id": "fbc6571e-4edd-4063-bcb9-a8fcc686c151",
   "metadata": {},
   "outputs": [],
   "source": [
    "import sys\n",
    "\n",
    "if not \"clipit\" in sys.path:\n",
    "    sys.path.append(\"clipit\")\n",
    "    \n",
    "print(sys.path)"
   ]
  },
  {
   "cell_type": "code",
   "execution_count": null,
   "id": "0160f168-5d74-4760-be94-ca7888719b94",
   "metadata": {},
   "outputs": [],
   "source": [
    "import clipit"
   ]
  },
  {
   "cell_type": "code",
   "execution_count": null,
   "id": "73a72fd3-09c9-4209-a326-9292a638ee4f",
   "metadata": {},
   "outputs": [],
   "source": [
    "prompts = \"dolan duck hyperrealistic #pixelart\" #@param {type:\"string\"}\n",
    "aspect = \"widescreen\" #@param [\"widescreen\", \"square\"]\n",
    "use_pixeldraw = True #@param {type:\"boolean\"}"
   ]
  },
  {
   "cell_type": "code",
   "execution_count": null,
   "id": "04c14626-824e-45c6-8443-82c7ef5bbc33",
   "metadata": {},
   "outputs": [],
   "source": [
    "# these are good settings for pixeldraw\n",
    "clipit.reset_settings()\n",
    "clipit.add_settings(prompts=prompts, aspect=aspect)\n",
    "clipit.add_settings(quality=\"better\", scale=2.5)\n",
    "clipit.add_settings(use_pixeldraw=use_pixeldraw)\n",
    "\n",
    "# custom settings\n",
    "clipit.add_settings(iterations=-1)\n",
    "\n",
    "settings = clipit.apply_settings()\n",
    "clipit.do_init(settings)"
   ]
  },
  {
   "cell_type": "code",
   "execution_count": null,
   "id": "4ae40bd8-b81f-4dc0-bd8f-c809bd3b4ca6",
   "metadata": {},
   "outputs": [],
   "source": [
    "clipit.do_run(settings)"
   ]
  },
  {
   "cell_type": "code",
   "execution_count": null,
   "id": "215b0121-ed07-48c1-bbe5-bb39d1b7308e",
   "metadata": {},
   "outputs": [],
   "source": []
  }
 ],
 "metadata": {
  "kernelspec": {
   "display_name": "setterpels39",
   "language": "python",
   "name": "setterpels39"
  },
  "language_info": {
   "codemirror_mode": {
    "name": "ipython",
    "version": 3
   },
   "file_extension": ".py",
   "mimetype": "text/x-python",
   "name": "python",
   "nbconvert_exporter": "python",
   "pygments_lexer": "ipython3",
   "version": "3.9.6"
  }
 },
 "nbformat": 4,
 "nbformat_minor": 5
}
